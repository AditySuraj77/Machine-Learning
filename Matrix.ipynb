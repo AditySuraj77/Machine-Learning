{
 "cells": [
  {
   "cell_type": "code",
   "execution_count": 20,
   "id": "8329c152",
   "metadata": {},
   "outputs": [],
   "source": [
    "import numpy as np"
   ]
  },
  {
   "cell_type": "markdown",
   "id": "1694fd64",
   "metadata": {},
   "source": [
    "# Creating Matrics Using Numpy"
   ]
  },
  {
   "cell_type": "code",
   "execution_count": 21,
   "id": "64bbf333",
   "metadata": {},
   "outputs": [
    {
     "name": "stdout",
     "output_type": "stream",
     "text": [
      "[2 5 8]\n",
      "[7 6 5]\n"
     ]
    }
   ],
   "source": [
    "mat_1 = np.array([2,5,8])\n",
    "mat_2 = np.array([7,6,5])\n",
    "print(mat_1)\n",
    "print(mat_2)"
   ]
  },
  {
   "cell_type": "code",
   "execution_count": 22,
   "id": "e382ccc7",
   "metadata": {},
   "outputs": [
    {
     "name": "stdout",
     "output_type": "stream",
     "text": [
      "(3,) (3,)\n"
     ]
    }
   ],
   "source": [
    "print(mat_1.shape,mat_2.shape)"
   ]
  },
  {
   "cell_type": "code",
   "execution_count": 25,
   "id": "2f03a1b3",
   "metadata": {},
   "outputs": [
    {
     "name": "stdout",
     "output_type": "stream",
     "text": [
      "(3, 3)\n"
     ]
    }
   ],
   "source": [
    "m1 = np.array([[2,4,6],[9,7,5],[11,23,45]])\n",
    "m1\n",
    "print(m1.shape)"
   ]
  },
  {
   "cell_type": "markdown",
   "id": "dc5d849a",
   "metadata": {},
   "source": [
    "# Create matrix with random values"
   ]
  },
  {
   "cell_type": "code",
   "execution_count": 26,
   "id": "5b897704",
   "metadata": {},
   "outputs": [
    {
     "name": "stdout",
     "output_type": "stream",
     "text": [
      "[[0.95640423 0.04086864 0.07578034 0.69272534 0.89298815]\n",
      " [0.53091553 0.87140246 0.99970772 0.46572777 0.57694464]\n",
      " [0.15696255 0.34742562 0.65605209 0.35289285 0.21242178]\n",
      " [0.89626817 0.89950398 0.22033452 0.45600871 0.25078511]\n",
      " [0.42617146 0.2210817  0.0658346  0.68799131 0.32168217]]\n"
     ]
    }
   ],
   "source": [
    "m_ran_1 = np.random.rand(5,5)\n",
    "print(m_ran_1)"
   ]
  },
  {
   "cell_type": "markdown",
   "id": "e3c06746",
   "metadata": {},
   "source": [
    "## Creating matrix all values is 1"
   ]
  },
  {
   "cell_type": "code",
   "execution_count": 29,
   "id": "894fad1c",
   "metadata": {},
   "outputs": [
    {
     "name": "stdout",
     "output_type": "stream",
     "text": [
      "[[1 1 1 1 1]\n",
      " [1 1 1 1 1]\n",
      " [1 1 1 1 1]\n",
      " [1 1 1 1 1]\n",
      " [1 1 1 1 1]]\n"
     ]
    }
   ],
   "source": [
    "mat_one = np.ones((5,5), dtype=int)\n",
    "print(mat_one)"
   ]
  },
  {
   "cell_type": "markdown",
   "id": "6a92cef8",
   "metadata": {},
   "source": [
    "## Zero matrix OR Null Matrix"
   ]
  },
  {
   "cell_type": "code",
   "execution_count": 31,
   "id": "c658f36c",
   "metadata": {},
   "outputs": [
    {
     "name": "stdout",
     "output_type": "stream",
     "text": [
      "[[0. 0. 0. 0. 0. 0. 0. 0. 0. 0.]\n",
      " [0. 0. 0. 0. 0. 0. 0. 0. 0. 0.]\n",
      " [0. 0. 0. 0. 0. 0. 0. 0. 0. 0.]\n",
      " [0. 0. 0. 0. 0. 0. 0. 0. 0. 0.]\n",
      " [0. 0. 0. 0. 0. 0. 0. 0. 0. 0.]\n",
      " [0. 0. 0. 0. 0. 0. 0. 0. 0. 0.]\n",
      " [0. 0. 0. 0. 0. 0. 0. 0. 0. 0.]\n",
      " [0. 0. 0. 0. 0. 0. 0. 0. 0. 0.]\n",
      " [0. 0. 0. 0. 0. 0. 0. 0. 0. 0.]\n",
      " [0. 0. 0. 0. 0. 0. 0. 0. 0. 0.]]\n"
     ]
    }
   ],
   "source": [
    "mat_zer = np.zeros((10,10))\n",
    "print(mat_zer)"
   ]
  },
  {
   "cell_type": "markdown",
   "id": "1d24d090",
   "metadata": {},
   "source": [
    "## Identity Matrix"
   ]
  },
  {
   "cell_type": "code",
   "execution_count": 32,
   "id": "b9f90942",
   "metadata": {},
   "outputs": [
    {
     "name": "stdout",
     "output_type": "stream",
     "text": [
      "[[1. 0. 0. 0. 0. 0.]\n",
      " [0. 1. 0. 0. 0. 0.]\n",
      " [0. 0. 1. 0. 0. 0.]\n",
      " [0. 0. 0. 1. 0. 0.]\n",
      " [0. 0. 0. 0. 1. 0.]\n",
      " [0. 0. 0. 0. 0. 1.]]\n"
     ]
    }
   ],
   "source": [
    "mat_ident = np.eye(6,6)\n",
    "print(mat_ident)"
   ]
  },
  {
   "cell_type": "markdown",
   "id": "211ca1de",
   "metadata": {},
   "source": [
    "# Matrix with random integer values"
   ]
  },
  {
   "cell_type": "code",
   "execution_count": 34,
   "id": "6c4f095a",
   "metadata": {},
   "outputs": [
    {
     "name": "stdout",
     "output_type": "stream",
     "text": [
      "[[14 30 66  1 94]\n",
      " [83 65 21 89 19]\n",
      " [66 49 62 59 88]\n",
      " [57 25 23 70 98]\n",
      " [42 75  2 45  5]]\n"
     ]
    }
   ],
   "source": [
    "mat_int= np.random.randint(100, size=(5,5))\n",
    "print(mat_int)"
   ]
  },
  {
   "cell_type": "markdown",
   "id": "f6c43be0",
   "metadata": {},
   "source": [
    "## Transpose of MAtrix"
   ]
  },
  {
   "cell_type": "code",
   "execution_count": 37,
   "id": "f2b78fba",
   "metadata": {},
   "outputs": [
    {
     "name": "stdout",
     "output_type": "stream",
     "text": [
      "[[14 83 66 57 42]\n",
      " [30 65 49 25 75]\n",
      " [66 21 62 23  2]\n",
      " [ 1 89 59 70 45]\n",
      " [94 19 88 98  5]]\n"
     ]
    }
   ],
   "source": [
    "mat_T = np.transpose(mat_int)\n",
    "print(mat_T)"
   ]
  },
  {
   "cell_type": "code",
   "execution_count": null,
   "id": "551edd05",
   "metadata": {},
   "outputs": [],
   "source": []
  }
 ],
 "metadata": {
  "kernelspec": {
   "display_name": "Python 3 (ipykernel)",
   "language": "python",
   "name": "python3"
  },
  "language_info": {
   "codemirror_mode": {
    "name": "ipython",
    "version": 3
   },
   "file_extension": ".py",
   "mimetype": "text/x-python",
   "name": "python",
   "nbconvert_exporter": "python",
   "pygments_lexer": "ipython3",
   "version": "3.9.13"
  }
 },
 "nbformat": 4,
 "nbformat_minor": 5
}
