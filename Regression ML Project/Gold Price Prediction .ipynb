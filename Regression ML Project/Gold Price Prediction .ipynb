{
 "cells": [
  {
   "cell_type": "code",
   "execution_count": 41,
   "id": "c523f268",
   "metadata": {},
   "outputs": [],
   "source": [
    "import numpy as np\n",
    "import pandas as pd\n",
    "import matplotlib.pyplot as plt\n",
    "import seaborn as sns\n",
    "from sklearn.model_selection import train_test_split\n",
    "from sklearn.ensemble import RandomForestRegressor\n",
    "from sklearn import metrics"
   ]
  },
  {
   "cell_type": "code",
   "execution_count": 42,
   "id": "09fd7481",
   "metadata": {},
   "outputs": [],
   "source": [
    "gold_data = pd.read_csv('Gold.csv')"
   ]
  },
  {
   "cell_type": "code",
   "execution_count": 43,
   "id": "e0cfb0e8",
   "metadata": {},
   "outputs": [
    {
     "data": {
      "text/html": [
       "<div><div id=6be7338f-4c7f-4dea-9448-42457e57fdec style=\"display:none; background-color:#9D6CFF; color:white; width:200px; height:30px; padding-left:5px; border-radius:4px; flex-direction:row; justify-content:space-around; align-items:center;\" onmouseover=\"this.style.backgroundColor='#BA9BF8'\" onmouseout=\"this.style.backgroundColor='#9D6CFF'\" onclick=\"window.commands?.execute('create-mitosheet-from-dataframe-output');\">See Full Dataframe in Mito</div> <script> if (window.commands?.hasCommand('create-mitosheet-from-dataframe-output')) document.getElementById('6be7338f-4c7f-4dea-9448-42457e57fdec').style.display = 'flex' </script> <table border=\"1\" class=\"dataframe\">\n",
       "  <thead>\n",
       "    <tr style=\"text-align: right;\">\n",
       "      <th></th>\n",
       "      <th>Date</th>\n",
       "      <th>SPX</th>\n",
       "      <th>GLD</th>\n",
       "      <th>USO</th>\n",
       "      <th>SLV</th>\n",
       "      <th>EUR/USD</th>\n",
       "    </tr>\n",
       "  </thead>\n",
       "  <tbody>\n",
       "    <tr>\n",
       "      <th>0</th>\n",
       "      <td>1/2/2008</td>\n",
       "      <td>1447.160034</td>\n",
       "      <td>84.860001</td>\n",
       "      <td>78.470001</td>\n",
       "      <td>15.180</td>\n",
       "      <td>1.471692</td>\n",
       "    </tr>\n",
       "    <tr>\n",
       "      <th>1</th>\n",
       "      <td>1/3/2008</td>\n",
       "      <td>1447.160034</td>\n",
       "      <td>85.570000</td>\n",
       "      <td>78.370003</td>\n",
       "      <td>15.285</td>\n",
       "      <td>1.474491</td>\n",
       "    </tr>\n",
       "    <tr>\n",
       "      <th>2</th>\n",
       "      <td>1/4/2008</td>\n",
       "      <td>1411.630005</td>\n",
       "      <td>85.129997</td>\n",
       "      <td>77.309998</td>\n",
       "      <td>15.167</td>\n",
       "      <td>1.475492</td>\n",
       "    </tr>\n",
       "    <tr>\n",
       "      <th>3</th>\n",
       "      <td>1/7/2008</td>\n",
       "      <td>1416.180054</td>\n",
       "      <td>84.769997</td>\n",
       "      <td>75.500000</td>\n",
       "      <td>15.053</td>\n",
       "      <td>1.468299</td>\n",
       "    </tr>\n",
       "    <tr>\n",
       "      <th>4</th>\n",
       "      <td>1/8/2008</td>\n",
       "      <td>1390.189941</td>\n",
       "      <td>86.779999</td>\n",
       "      <td>76.059998</td>\n",
       "      <td>15.590</td>\n",
       "      <td>1.557099</td>\n",
       "    </tr>\n",
       "  </tbody>\n",
       "</table></div>"
      ],
      "text/plain": [
       "       Date          SPX        GLD        USO     SLV   EUR/USD\n",
       "0  1/2/2008  1447.160034  84.860001  78.470001  15.180  1.471692\n",
       "1  1/3/2008  1447.160034  85.570000  78.370003  15.285  1.474491\n",
       "2  1/4/2008  1411.630005  85.129997  77.309998  15.167  1.475492\n",
       "3  1/7/2008  1416.180054  84.769997  75.500000  15.053  1.468299\n",
       "4  1/8/2008  1390.189941  86.779999  76.059998  15.590  1.557099"
      ]
     },
     "execution_count": 43,
     "metadata": {},
     "output_type": "execute_result"
    }
   ],
   "source": [
    "# print first five rows\n",
    "gold_data.head()"
   ]
  },
  {
   "cell_type": "code",
   "execution_count": 44,
   "id": "aea3fec4",
   "metadata": {},
   "outputs": [
    {
     "data": {
      "text/html": [
       "<div><div id=a207d150-5d83-4e62-b4bf-4bdae26e6b04 style=\"display:none; background-color:#9D6CFF; color:white; width:200px; height:30px; padding-left:5px; border-radius:4px; flex-direction:row; justify-content:space-around; align-items:center;\" onmouseover=\"this.style.backgroundColor='#BA9BF8'\" onmouseout=\"this.style.backgroundColor='#9D6CFF'\" onclick=\"window.commands?.execute('create-mitosheet-from-dataframe-output');\">See Full Dataframe in Mito</div> <script> if (window.commands?.hasCommand('create-mitosheet-from-dataframe-output')) document.getElementById('a207d150-5d83-4e62-b4bf-4bdae26e6b04').style.display = 'flex' </script> <table border=\"1\" class=\"dataframe\">\n",
       "  <thead>\n",
       "    <tr style=\"text-align: right;\">\n",
       "      <th></th>\n",
       "      <th>Date</th>\n",
       "      <th>SPX</th>\n",
       "      <th>GLD</th>\n",
       "      <th>USO</th>\n",
       "      <th>SLV</th>\n",
       "      <th>EUR/USD</th>\n",
       "    </tr>\n",
       "  </thead>\n",
       "  <tbody>\n",
       "    <tr>\n",
       "      <th>2285</th>\n",
       "      <td>5/8/2018</td>\n",
       "      <td>2671.919922</td>\n",
       "      <td>124.589996</td>\n",
       "      <td>14.0600</td>\n",
       "      <td>15.5100</td>\n",
       "      <td>1.186789</td>\n",
       "    </tr>\n",
       "    <tr>\n",
       "      <th>2286</th>\n",
       "      <td>5/9/2018</td>\n",
       "      <td>2697.790039</td>\n",
       "      <td>124.330002</td>\n",
       "      <td>14.3700</td>\n",
       "      <td>15.5300</td>\n",
       "      <td>1.184722</td>\n",
       "    </tr>\n",
       "    <tr>\n",
       "      <th>2287</th>\n",
       "      <td>5/10/2018</td>\n",
       "      <td>2723.070068</td>\n",
       "      <td>125.180000</td>\n",
       "      <td>14.4100</td>\n",
       "      <td>15.7400</td>\n",
       "      <td>1.191753</td>\n",
       "    </tr>\n",
       "    <tr>\n",
       "      <th>2288</th>\n",
       "      <td>5/14/2018</td>\n",
       "      <td>2730.129883</td>\n",
       "      <td>124.489998</td>\n",
       "      <td>14.3800</td>\n",
       "      <td>15.5600</td>\n",
       "      <td>1.193118</td>\n",
       "    </tr>\n",
       "    <tr>\n",
       "      <th>2289</th>\n",
       "      <td>5/16/2018</td>\n",
       "      <td>2725.780029</td>\n",
       "      <td>122.543800</td>\n",
       "      <td>14.4058</td>\n",
       "      <td>15.4542</td>\n",
       "      <td>1.182033</td>\n",
       "    </tr>\n",
       "  </tbody>\n",
       "</table></div>"
      ],
      "text/plain": [
       "           Date          SPX         GLD      USO      SLV   EUR/USD\n",
       "2285   5/8/2018  2671.919922  124.589996  14.0600  15.5100  1.186789\n",
       "2286   5/9/2018  2697.790039  124.330002  14.3700  15.5300  1.184722\n",
       "2287  5/10/2018  2723.070068  125.180000  14.4100  15.7400  1.191753\n",
       "2288  5/14/2018  2730.129883  124.489998  14.3800  15.5600  1.193118\n",
       "2289  5/16/2018  2725.780029  122.543800  14.4058  15.4542  1.182033"
      ]
     },
     "execution_count": 44,
     "metadata": {},
     "output_type": "execute_result"
    }
   ],
   "source": [
    "gold_data.tail()"
   ]
  },
  {
   "cell_type": "code",
   "execution_count": 45,
   "id": "d68722d1",
   "metadata": {},
   "outputs": [
    {
     "data": {
      "text/plain": [
       "Date       0\n",
       "SPX        0\n",
       "GLD        0\n",
       "USO        0\n",
       "SLV        0\n",
       "EUR/USD    0\n",
       "dtype: int64"
      ]
     },
     "execution_count": 45,
     "metadata": {},
     "output_type": "execute_result"
    }
   ],
   "source": [
    "# some missing values\n",
    "gold_data.isnull().sum()"
   ]
  },
  {
   "cell_type": "code",
   "execution_count": 46,
   "id": "5e89d33e",
   "metadata": {},
   "outputs": [
    {
     "name": "stdout",
     "output_type": "stream",
     "text": [
      "<class 'pandas.core.frame.DataFrame'>\n",
      "RangeIndex: 2290 entries, 0 to 2289\n",
      "Data columns (total 6 columns):\n",
      " #   Column   Non-Null Count  Dtype  \n",
      "---  ------   --------------  -----  \n",
      " 0   Date     2290 non-null   object \n",
      " 1   SPX      2290 non-null   float64\n",
      " 2   GLD      2290 non-null   float64\n",
      " 3   USO      2290 non-null   float64\n",
      " 4   SLV      2290 non-null   float64\n",
      " 5   EUR/USD  2290 non-null   float64\n",
      "dtypes: float64(5), object(1)\n",
      "memory usage: 107.5+ KB\n"
     ]
    }
   ],
   "source": [
    "gold_data.info()"
   ]
  },
  {
   "cell_type": "code",
   "execution_count": 47,
   "id": "9b294eeb",
   "metadata": {},
   "outputs": [
    {
     "data": {
      "text/plain": [
       "(2290, 6)"
      ]
     },
     "execution_count": 47,
     "metadata": {},
     "output_type": "execute_result"
    }
   ],
   "source": [
    "gold_data.shape"
   ]
  },
  {
   "cell_type": "code",
   "execution_count": 48,
   "id": "749a201c",
   "metadata": {},
   "outputs": [
    {
     "data": {
      "text/html": [
       "<div><div id=1194c603-f0c6-426f-a26e-8b0ea8a6ce7d style=\"display:none; background-color:#9D6CFF; color:white; width:200px; height:30px; padding-left:5px; border-radius:4px; flex-direction:row; justify-content:space-around; align-items:center;\" onmouseover=\"this.style.backgroundColor='#BA9BF8'\" onmouseout=\"this.style.backgroundColor='#9D6CFF'\" onclick=\"window.commands?.execute('create-mitosheet-from-dataframe-output');\">See Full Dataframe in Mito</div> <script> if (window.commands?.hasCommand('create-mitosheet-from-dataframe-output')) document.getElementById('1194c603-f0c6-426f-a26e-8b0ea8a6ce7d').style.display = 'flex' </script> <table border=\"1\" class=\"dataframe\">\n",
       "  <thead>\n",
       "    <tr style=\"text-align: right;\">\n",
       "      <th></th>\n",
       "      <th>SPX</th>\n",
       "      <th>GLD</th>\n",
       "      <th>USO</th>\n",
       "      <th>SLV</th>\n",
       "      <th>EUR/USD</th>\n",
       "    </tr>\n",
       "  </thead>\n",
       "  <tbody>\n",
       "    <tr>\n",
       "      <th>count</th>\n",
       "      <td>2290.000000</td>\n",
       "      <td>2290.000000</td>\n",
       "      <td>2290.000000</td>\n",
       "      <td>2290.000000</td>\n",
       "      <td>2290.000000</td>\n",
       "    </tr>\n",
       "    <tr>\n",
       "      <th>mean</th>\n",
       "      <td>1654.315776</td>\n",
       "      <td>122.732875</td>\n",
       "      <td>31.842221</td>\n",
       "      <td>20.084997</td>\n",
       "      <td>1.283653</td>\n",
       "    </tr>\n",
       "    <tr>\n",
       "      <th>std</th>\n",
       "      <td>519.111540</td>\n",
       "      <td>23.283346</td>\n",
       "      <td>19.523517</td>\n",
       "      <td>7.092566</td>\n",
       "      <td>0.131547</td>\n",
       "    </tr>\n",
       "    <tr>\n",
       "      <th>min</th>\n",
       "      <td>676.530029</td>\n",
       "      <td>70.000000</td>\n",
       "      <td>7.960000</td>\n",
       "      <td>8.850000</td>\n",
       "      <td>1.039047</td>\n",
       "    </tr>\n",
       "    <tr>\n",
       "      <th>25%</th>\n",
       "      <td>1239.874969</td>\n",
       "      <td>109.725000</td>\n",
       "      <td>14.380000</td>\n",
       "      <td>15.570000</td>\n",
       "      <td>1.171313</td>\n",
       "    </tr>\n",
       "    <tr>\n",
       "      <th>50%</th>\n",
       "      <td>1551.434998</td>\n",
       "      <td>120.580002</td>\n",
       "      <td>33.869999</td>\n",
       "      <td>17.268500</td>\n",
       "      <td>1.303297</td>\n",
       "    </tr>\n",
       "    <tr>\n",
       "      <th>75%</th>\n",
       "      <td>2073.010070</td>\n",
       "      <td>132.840004</td>\n",
       "      <td>37.827501</td>\n",
       "      <td>22.882500</td>\n",
       "      <td>1.369971</td>\n",
       "    </tr>\n",
       "    <tr>\n",
       "      <th>max</th>\n",
       "      <td>2872.870117</td>\n",
       "      <td>184.589996</td>\n",
       "      <td>117.480003</td>\n",
       "      <td>47.259998</td>\n",
       "      <td>1.598798</td>\n",
       "    </tr>\n",
       "  </tbody>\n",
       "</table></div>"
      ],
      "text/plain": [
       "               SPX          GLD          USO          SLV      EUR/USD\n",
       "count  2290.000000  2290.000000  2290.000000  2290.000000  2290.000000\n",
       "mean   1654.315776   122.732875    31.842221    20.084997     1.283653\n",
       "std     519.111540    23.283346    19.523517     7.092566     0.131547\n",
       "min     676.530029    70.000000     7.960000     8.850000     1.039047\n",
       "25%    1239.874969   109.725000    14.380000    15.570000     1.171313\n",
       "50%    1551.434998   120.580002    33.869999    17.268500     1.303297\n",
       "75%    2073.010070   132.840004    37.827501    22.882500     1.369971\n",
       "max    2872.870117   184.589996   117.480003    47.259998     1.598798"
      ]
     },
     "execution_count": 48,
     "metadata": {},
     "output_type": "execute_result"
    }
   ],
   "source": [
    "gold_data.describe()"
   ]
  },
  {
   "cell_type": "code",
   "execution_count": 49,
   "id": "6531ef53",
   "metadata": {},
   "outputs": [],
   "source": [
    "# check corealation between various variables in dataframes\n",
    "cor_realation = gold_data.corr()"
   ]
  },
  {
   "cell_type": "code",
   "execution_count": 50,
   "id": "c3e63865",
   "metadata": {},
   "outputs": [
    {
     "data": {
      "text/plain": [
       "<AxesSubplot:>"
      ]
     },
     "execution_count": 50,
     "metadata": {},
     "output_type": "execute_result"
    },
    {
     "data": {
      "image/png": "[encoded data removed]",
      "text/plain": [
       "<Figure size 800x800 with 2 Axes>"
      ]
     },
     "metadata": {},
     "output_type": "display_data"
    }
   ],
   "source": [
    "# plot the heatmap to check corealation\n",
    "plt.figure(figsize=(8,8))\n",
    "sns.heatmap(cor_realation, annot=True,cbar=True,cmap='Blues', square=True, fmt='.1f')"
   ]
  },
  {
   "cell_type": "code",
   "execution_count": 51,
   "id": "bbf3f576",
   "metadata": {},
   "outputs": [
    {
     "name": "stdout",
     "output_type": "stream",
     "text": [
      "SPX        0.049345\n",
      "GLD        1.000000\n",
      "USO       -0.186360\n",
      "SLV        0.866632\n",
      "EUR/USD   -0.024375\n",
      "Name: GLD, dtype: float64\n"
     ]
    }
   ],
   "source": [
    "print(cor_realation['GLD'])"
   ]
  },
  {
   "cell_type": "code",
   "execution_count": 52,
   "id": "5010e2c4",
   "metadata": {},
   "outputs": [
    {
     "name": "stderr",
     "output_type": "stream",
     "text": [
      "C:\\Users\\user.LAPTOP\\AppData\\Local\\Temp\\ipykernel_3660\\220278983.py:2: UserWarning: \n",
      "\n",
      "`distplot` is a deprecated function and will be removed in seaborn v0.14.0.\n",
      "\n",
      "Please adapt your code to use either `displot` (a figure-level function with\n",
      "similar flexibility) or `histplot` (an axes-level function for histograms).\n",
      "\n",
      "For a guide to updating your code to use the new functions, please see\n",
      "https://gist.github.com/mwaskom/de44147ed2974457ad6372750bbe5751\n",
      "\n",
      "  sns.distplot(gold_data.GLD, color='blue')\n"
     ]
    },
    {
     "data": {
      "text/plain": [
       "<AxesSubplot:xlabel='GLD', ylabel='Density'>"
      ]
     },
     "execution_count": 52,
     "metadata": {},
     "output_type": "execute_result"
    },
    {
     "data": {
      "image/png": "[encoded data removed]",
      "text/plain": [
       "<Figure size 640x480 with 1 Axes>"
      ]
     },
     "metadata": {},
     "output_type": "display_data"
    }
   ],
   "source": [
    "# Check the distribution of GLD Columns\n",
    "sns.distplot(gold_data.GLD, color='blue')"
   ]
  },
  {
   "cell_type": "markdown",
   "id": "5b6d3d15",
   "metadata": {},
   "source": [
    "## Separate the data into features and target"
   ]
  },
  {
   "cell_type": "code",
   "execution_count": 53,
   "id": "db06af9f",
   "metadata": {},
   "outputs": [],
   "source": [
    "X = gold_data.drop(columns=['GLD', 'Date'], axis=1)\n",
    "Y = gold_data['GLD']"
   ]
  },
  {
   "cell_type": "code",
   "execution_count": 54,
   "id": "5e10f286",
   "metadata": {},
   "outputs": [
    {
     "name": "stdout",
     "output_type": "stream",
     "text": [
      "              SPX        USO      SLV   EUR/USD\n",
      "0     1447.160034  78.470001  15.1800  1.471692\n",
      "1     1447.160034  78.370003  15.2850  1.474491\n",
      "2     1411.630005  77.309998  15.1670  1.475492\n",
      "3     1416.180054  75.500000  15.0530  1.468299\n",
      "4     1390.189941  76.059998  15.5900  1.557099\n",
      "...           ...        ...      ...       ...\n",
      "2285  2671.919922  14.060000  15.5100  1.186789\n",
      "2286  2697.790039  14.370000  15.5300  1.184722\n",
      "2287  2723.070068  14.410000  15.7400  1.191753\n",
      "2288  2730.129883  14.380000  15.5600  1.193118\n",
      "2289  2725.780029  14.405800  15.4542  1.182033\n",
      "\n",
      "[2290 rows x 4 columns]\n"
     ]
    }
   ],
   "source": [
    "print(X)"
   ]
  },
  {
   "cell_type": "code",
   "execution_count": 55,
   "id": "d5ed08f6",
   "metadata": {},
   "outputs": [
    {
     "name": "stdout",
     "output_type": "stream",
     "text": [
      "0        84.860001\n",
      "1        85.570000\n",
      "2        85.129997\n",
      "3        84.769997\n",
      "4        86.779999\n",
      "           ...    \n",
      "2285    124.589996\n",
      "2286    124.330002\n",
      "2287    125.180000\n",
      "2288    124.489998\n",
      "2289    122.543800\n",
      "Name: GLD, Length: 2290, dtype: float64\n"
     ]
    }
   ],
   "source": [
    "print(Y)"
   ]
  },
  {
   "cell_type": "markdown",
   "id": "1987e05f",
   "metadata": {},
   "source": [
    "# Split the data into train & test"
   ]
  },
  {
   "cell_type": "code",
   "execution_count": 56,
   "id": "2fd24845",
   "metadata": {},
   "outputs": [],
   "source": [
    "X_train,X_test,Y_train,Y_test = train_test_split(X,Y, test_size=0.2, random_state=2)"
   ]
  },
  {
   "cell_type": "code",
   "execution_count": 57,
   "id": "6aeb2578",
   "metadata": {},
   "outputs": [
    {
     "name": "stdout",
     "output_type": "stream",
     "text": [
      "(2290, 4) (1832, 4) (458, 4)\n",
      "(2290,) (1832,) (458,)\n"
     ]
    }
   ],
   "source": [
    "print(X.shape,X_train.shape,X_test.shape)\n",
    "print(Y.shape,Y_train.shape,Y_test.shape)"
   ]
  },
  {
   "cell_type": "markdown",
   "id": "718adfff",
   "metadata": {},
   "source": [
    "# Train the model\n",
    "\n",
    "## Ranodom forest "
   ]
  },
  {
   "cell_type": "code",
   "execution_count": 58,
   "id": "ab591da9",
   "metadata": {},
   "outputs": [],
   "source": [
    "regrrsor = RandomForestRegressor(n_estimators=100)"
   ]
  },
  {
   "cell_type": "code",
   "execution_count": 59,
   "id": "e329f07b",
   "metadata": {},
   "outputs": [
    {
     "data": {
      "text/html": [
       "<style>#sk-container-id-2 {color: black;background-color: white;}#sk-container-id-2 pre{padding: 0;}#sk-container-id-2 div.sk-toggleable {background-color: white;}#sk-container-id-2 label.sk-toggleable__label {cursor: pointer;display: block;width: 100%;margin-bottom: 0;padding: 0.3em;box-sizing: border-box;text-align: center;}#sk-container-id-2 label.sk-toggleable__label-arrow:before {content: \"▸\";float: left;margin-right: 0.25em;color: #696969;}#sk-container-id-2 label.sk-toggleable__label-arrow:hover:before {color: black;}#sk-container-id-2 div.sk-estimator:hover label.sk-toggleable__label-arrow:before {color: black;}#sk-container-id-2 div.sk-toggleable__content {max-height: 0;max-width: 0;overflow: hidden;text-align: left;background-color: #f0f8ff;}#sk-container-id-2 div.sk-toggleable__content pre {margin: 0.2em;color: black;border-radius: 0.25em;background-color: #f0f8ff;}#sk-container-id-2 input.sk-toggleable__control:checked~div.sk-toggleable__content {max-height: 200px;max-width: 100%;overflow: auto;}#sk-container-id-2 input.sk-toggleable__control:checked~label.sk-toggleable__label-arrow:before {content: \"▾\";}#sk-container-id-2 div.sk-estimator input.sk-toggleable__control:checked~label.sk-toggleable__label {background-color: #d4ebff;}#sk-container-id-2 div.sk-label input.sk-toggleable__control:checked~label.sk-toggleable__label {background-color: #d4ebff;}#sk-container-id-2 input.sk-hidden--visually {border: 0;clip: rect(1px 1px 1px 1px);clip: rect(1px, 1px, 1px, 1px);height: 1px;margin: -1px;overflow: hidden;padding: 0;position: absolute;width: 1px;}#sk-container-id-2 div.sk-estimator {font-family: monospace;background-color: #f0f8ff;border: 1px dotted black;border-radius: 0.25em;box-sizing: border-box;margin-bottom: 0.5em;}#sk-container-id-2 div.sk-estimator:hover {background-color: #d4ebff;}#sk-container-id-2 div.sk-parallel-item::after {content: \"\";width: 100%;border-bottom: 1px solid gray;flex-grow: 1;}#sk-container-id-2 div.sk-label:hover label.sk-toggleable__label {background-color: #d4ebff;}#sk-container-id-2 div.sk-serial::before {content: \"\";position: absolute;border-left: 1px solid gray;box-sizing: border-box;top: 0;bottom: 0;left: 50%;z-index: 0;}#sk-container-id-2 div.sk-serial {display: flex;flex-direction: column;align-items: center;background-color: white;padding-right: 0.2em;padding-left: 0.2em;position: relative;}#sk-container-id-2 div.sk-item {position: relative;z-index: 1;}#sk-container-id-2 div.sk-parallel {display: flex;align-items: stretch;justify-content: center;background-color: white;position: relative;}#sk-container-id-2 div.sk-item::before, #sk-container-id-2 div.sk-parallel-item::before {content: \"\";position: absolute;border-left: 1px solid gray;box-sizing: border-box;top: 0;bottom: 0;left: 50%;z-index: -1;}#sk-container-id-2 div.sk-parallel-item {display: flex;flex-direction: column;z-index: 1;position: relative;background-color: white;}#sk-container-id-2 div.sk-parallel-item:first-child::after {align-self: flex-end;width: 50%;}#sk-container-id-2 div.sk-parallel-item:last-child::after {align-self: flex-start;width: 50%;}#sk-container-id-2 div.sk-parallel-item:only-child::after {width: 0;}#sk-container-id-2 div.sk-dashed-wrapped {border: 1px dashed gray;margin: 0 0.4em 0.5em 0.4em;box-sizing: border-box;padding-bottom: 0.4em;background-color: white;}#sk-container-id-2 div.sk-label label {font-family: monospace;font-weight: bold;display: inline-block;line-height: 1.2em;}#sk-container-id-2 div.sk-label-container {text-align: center;}#sk-container-id-2 div.sk-container {/* jupyter's `normalize.less` sets `[hidden] { display: none; }` but bootstrap.min.css set `[hidden] { display: none !important; }` so we also need the `!important` here to be able to override the default hidden behavior on the sphinx rendered scikit-learn.org. See: https://github.com/scikit-learn/scikit-learn/issues/21755 */display: inline-block !important;position: relative;}#sk-container-id-2 div.sk-text-repr-fallback {display: none;}</style><div id=\"sk-container-id-2\" class=\"sk-top-container\"><div class=\"sk-text-repr-fallback\"><pre>RandomForestRegressor()</pre><b>In a Jupyter environment, please rerun this cell to show the HTML representation or trust the notebook. <br />On GitHub, the HTML representation is unable to render, please try loading this page with nbviewer.org.</b></div><div class=\"sk-container\" hidden><div class=\"sk-item\"><div class=\"sk-estimator sk-toggleable\"><input class=\"sk-toggleable__control sk-hidden--visually\" id=\"sk-estimator-id-2\" type=\"checkbox\" checked><label for=\"sk-estimator-id-2\" class=\"sk-toggleable__label sk-toggleable__label-arrow\">RandomForestRegressor</label><div class=\"sk-toggleable__content\"><pre>RandomForestRegressor()</pre></div></div></div></div></div>"
      ],
      "text/plain": [
       "RandomForestRegressor()"
      ]
     },
     "execution_count": 59,
     "metadata": {},
     "output_type": "execute_result"
    }
   ],
   "source": [
    "regrrsor.fit(X_train,Y_train)"
   ]
  },
  {
   "cell_type": "code",
   "execution_count": 60,
   "id": "98c3d741",
   "metadata": {
    "scrolled": false
   },
   "outputs": [
    {
     "data": {
      "text/plain": [
       "array([168.7261994 ,  82.44809937, 116.09180012, 127.43830082,\n",
       "       120.48580124, 154.74529788, 150.53319892, 126.09740076,\n",
       "       117.52499874, 126.04790099, 116.65620099, 171.56920041,\n",
       "       141.95849916, 167.99979872, 115.21059973, 117.72770068,\n",
       "       139.7763031 , 170.38420109, 159.20640253, 157.56779974,\n",
       "       155.08270011, 125.39409999, 176.06950067, 157.48920336,\n",
       "       125.1933003 ,  93.58449938,  77.56949994, 120.75580012,\n",
       "       119.08359953, 167.41520051,  88.03010057, 125.16889997,\n",
       "        91.21030078, 117.73760027, 121.18879933, 136.14750188,\n",
       "       115.47450113, 115.04010067, 146.8040985 , 107.35440096,\n",
       "       104.58740254,  87.17959804, 126.52130056, 117.93040032,\n",
       "       153.04399903, 119.63639987, 108.33129972, 108.48719837,\n",
       "        93.31410078, 126.96039849,  75.04470038, 113.64049909,\n",
       "       121.40870036, 111.41079885, 118.8189988 , 120.94329944,\n",
       "       158.40519998, 167.78900158, 147.16899701,  85.78869852,\n",
       "        94.18920035,  86.80319883,  90.53760024, 119.10490058,\n",
       "       126.39210073, 127.51999994, 170.95160025, 122.22929927,\n",
       "       117.34459905,  98.22490062, 168.68920093, 143.0995978 ,\n",
       "       131.46410183, 121.09860215, 120.84479912, 119.85160056,\n",
       "       114.62550131, 118.23500043, 107.1155009 , 127.97000094,\n",
       "       113.90669947, 107.35250001, 116.93490028, 119.6266988 ,\n",
       "        88.83390011,  88.28059873, 147.02040176, 127.22499996,\n",
       "       113.15130017, 110.0573984 , 108.21289893,  77.84889886,\n",
       "       169.60740186, 114.03469908, 121.67979888, 127.87860208,\n",
       "       155.05759799,  91.79989981, 135.92730132, 158.56010418,\n",
       "       125.52870055, 125.28340114, 130.42500138, 115.04860096,\n",
       "       119.97420035,  92.03259951, 110.51369865, 169.82569937,\n",
       "       156.92489947, 114.18899944, 106.86260123,  79.68439948,\n",
       "       113.34000033, 125.79250072, 107.0770998 , 119.30020079,\n",
       "       155.69250307, 159.90129934, 119.67329995, 133.77740271,\n",
       "       101.57339977, 117.55399788, 119.2715002 , 113.04250076,\n",
       "       102.80029917, 159.5608976 ,  98.86640024, 146.12539966,\n",
       "       125.56800112, 169.922999  , 125.57019848, 127.27529795,\n",
       "       127.37430121, 113.77389942, 112.72140045, 123.64019918,\n",
       "       102.1100989 ,  89.26729982, 124.53709935, 101.43639955,\n",
       "       107.467799  , 113.4310007 , 117.07570068,  99.05909954,\n",
       "       121.57150048, 163.31919929,  87.36109881, 106.83819974,\n",
       "       117.42330089, 127.69530138, 124.09300076,  80.72909963,\n",
       "       120.19590091, 157.16299877,  87.78769976, 110.36159912,\n",
       "       118.97549908, 172.4254987 , 103.01869886, 105.21910081,\n",
       "       122.4999006 , 157.57609855,  87.54099809,  93.25710075,\n",
       "       112.56970042, 176.90420049, 114.46539947, 119.2853001 ,\n",
       "        94.53300083, 125.67930033, 165.4499011 , 115.02170041,\n",
       "       117.07880144,  88.35479882, 148.69040035, 120.44559917,\n",
       "        89.42009976, 112.15710033, 117.14120048, 118.64480129,\n",
       "        87.94049923,  93.99439999, 116.95490017, 118.64100209,\n",
       "       120.24970028, 126.58959792, 121.91799988, 150.75540021,\n",
       "       165.10110059, 118.54939985, 120.46940139, 150.90780061,\n",
       "       118.77119935, 172.62889821, 105.60799952, 104.98280105,\n",
       "       148.93340038, 113.90090082, 125.05750045, 147.26470032,\n",
       "       119.5569014 , 115.24730033, 112.65020031, 113.53700163,\n",
       "       143.07260185, 117.89689762, 102.95280087, 115.86640112,\n",
       "       103.83700203,  98.59350043, 117.39410083,  90.71899988,\n",
       "        91.56480054, 153.24079945, 102.69699975, 154.62930076,\n",
       "       114.3650014 , 138.53690126,  90.0888983 , 115.5184994 ,\n",
       "       114.47999975, 123.03010067, 121.7141002 , 164.80230146,\n",
       "        92.95329954, 134.82800048, 121.32599918, 120.77590055,\n",
       "       104.78520044, 141.71520297, 122.04739892, 116.55810043,\n",
       "       113.21270078, 126.92839741, 122.7924994 , 125.80409948,\n",
       "       121.1859006 ,  86.77909906, 132.84820227, 146.30130155,\n",
       "        92.63209947, 159.33999964, 158.39110328, 126.32439904,\n",
       "       165.1485991 , 108.86719962, 110.02390044, 103.71239854,\n",
       "        94.23340047, 127.72250287, 107.23280021, 162.5438001 ,\n",
       "       121.51830039, 132.0716997 , 130.41400135, 159.58249982,\n",
       "        90.0948985 , 175.45270239, 127.77109999, 126.57749852,\n",
       "        86.52549892, 124.54539962, 150.98679709,  89.54000013,\n",
       "       107.01429981, 109.02889974,  85.05189891, 136.92829906,\n",
       "       154.95700285, 138.8969037 ,  73.6556003 , 152.22220143,\n",
       "       126.24089978, 126.72610028, 127.47939904, 108.66719928,\n",
       "       156.08980079, 114.50500084, 116.92180122, 125.37009934,\n",
       "       153.99720167, 121.20529987, 156.36029883,  92.84870034,\n",
       "       125.60920134, 126.04280045,  87.85670067,  92.14169931,\n",
       "       126.26259954, 128.02230326, 113.19010001, 117.68429776,\n",
       "       120.9451    , 126.96459801, 119.56730116, 136.13320117,\n",
       "        93.79839924, 119.65060039, 113.12170087,  94.2637995 ,\n",
       "       108.9275997 ,  87.15059927, 109.37409875,  89.80569966,\n",
       "        92.46999999, 131.42280306, 162.24390082,  89.27890037,\n",
       "       119.53520093, 133.41020159, 124.0905003 , 128.10750191,\n",
       "       101.96169846,  88.90269896, 132.49830031, 119.7650001 ,\n",
       "       108.71529963, 167.29990115, 115.19760054,  86.51939901,\n",
       "       118.82900054,  90.95259969, 161.71950077, 116.59510052,\n",
       "       121.49420009, 160.27989828, 119.88799912, 113.09249928,\n",
       "       108.4848985 , 126.68609969,  76.22770045, 103.024     ,\n",
       "       127.87830282, 121.83279922,  92.65429978, 132.31470093,\n",
       "       118.18690145, 115.94369975, 154.57930258, 159.46780075,\n",
       "       110.15959941, 155.63439824, 119.21330074, 160.37250062,\n",
       "       118.65380046, 157.22579965, 115.03019953, 116.29200063,\n",
       "       150.03059953, 114.76260072, 125.63279883, 165.56039981,\n",
       "       117.63130035, 125.12759927, 153.16910404, 153.56930204,\n",
       "       132.31390014, 114.90930038, 121.19170206, 125.22740062,\n",
       "        89.83210061, 123.0649997 , 154.77550153, 111.6164003 ,\n",
       "       106.64999989, 161.74210183, 118.53870012, 165.61729946,\n",
       "       134.18690114, 115.12569961, 153.14059949, 168.6744995 ,\n",
       "       114.58030005, 113.6836013 , 159.5638988 ,  85.51709885,\n",
       "       127.01340041, 128.00340021, 128.64999988, 124.28280062,\n",
       "       123.85320054,  90.47480043, 153.17550027,  97.16159963,\n",
       "       137.53419972,  89.14689912, 107.33729988, 115.0895006 ,\n",
       "       112.5805008 , 124.22609916,  91.32849894, 125.40180112,\n",
       "       162.30559936, 120.07359856, 165.47020097, 126.65019777,\n",
       "       112.46120021, 127.36819915,  94.9173985 ,  90.93109971,\n",
       "       103.24699918, 120.81700006,  82.65899945, 126.41779968,\n",
       "       160.65260428, 117.34250091, 118.3839999 , 120.17439995,\n",
       "       123.07159969, 120.10320129, 121.52869997, 118.2444008 ,\n",
       "       107.24139987, 148.35400002, 125.84889815, 115.73250091,\n",
       "        73.9079003 , 127.83860114, 153.86560015, 121.98520006,\n",
       "       125.60200014,  88.96270041, 102.96129827, 124.72790047,\n",
       "       120.1871003 ,  73.6247009 , 151.9050999 , 121.17940035,\n",
       "       104.68110025,  86.38639786, 115.12619881, 172.1714986 ,\n",
       "       119.88340018, 158.48979769, 113.20669958, 121.03310029,\n",
       "       118.79040117,  95.93599984, 118.94350004, 125.82660051,\n",
       "       118.39689963,  95.91680008, 153.99950188, 122.05990014,\n",
       "       147.70649992, 159.22680288, 113.86370041, 122.55039922,\n",
       "       151.50639869, 127.5548002 , 165.63160021, 135.20900024,\n",
       "       120.21669942, 167.46289875, 108.44809944, 121.56479872,\n",
       "       138.61390143, 106.20409888])"
      ]
     },
     "execution_count": 60,
     "metadata": {},
     "output_type": "execute_result"
    }
   ],
   "source": [
    "regrrsor.predict(X_test)"
   ]
  },
  {
   "cell_type": "code",
   "execution_count": 66,
   "id": "aee70064",
   "metadata": {},
   "outputs": [
    {
     "data": {
      "text/plain": [
       "[168.020004,\n",
       " 81.230003,\n",
       " 112.32,\n",
       " 127.589996,\n",
       " 119.620003,\n",
       " 154.210007,\n",
       " 148.910004,\n",
       " 126.190002,\n",
       " 117.470001,\n",
       " 125.739998,\n",
       " 115.379997,\n",
       " 167.119995,\n",
       " 141.630005,\n",
       " 169.559998,\n",
       " 115.599998,\n",
       " 119.669998,\n",
       " 132.949997,\n",
       " 170.399994,\n",
       " 159.369995,\n",
       " 173.529999,\n",
       " 154.720001,\n",
       " 128.119995,\n",
       " 177.720001,\n",
       " 157.190002,\n",
       " 125.309998,\n",
       " 93.400002,\n",
       " 76.790001,\n",
       " 119.690002,\n",
       " 118.989998,\n",
       " 167.389999,\n",
       " 87.5,\n",
       " 124.980003,\n",
       " 91.230003,\n",
       " 115.489998,\n",
       " 120.949997,\n",
       " 133.809998,\n",
       " 116.690002,\n",
       " 113.809998,\n",
       " 133.580002,\n",
       " 105.970001,\n",
       " 105.120003,\n",
       " 87.959999,\n",
       " 126.82,\n",
       " 116.860001,\n",
       " 159.259995,\n",
       " 119.459999,\n",
       " 109.160004,\n",
       " 108.620003,\n",
       " 93.269997,\n",
       " 127.160004,\n",
       " 72.260002,\n",
       " 113.470001,\n",
       " 119.68,\n",
       " 109.139999,\n",
       " 119.309998,\n",
       " 120.050003,\n",
       " 159.889999,\n",
       " 161.490005,\n",
       " 146.740005,\n",
       " 85.809998,\n",
       " 93.709999,\n",
       " 85.550003,\n",
       " 91.029999,\n",
       " 118.489998,\n",
       " 126.449997,\n",
       " 126.980003,\n",
       " 171.699997,\n",
       " 122.400002,\n",
       " 116.410004,\n",
       " 97.959999,\n",
       " 169.630005,\n",
       " 142.639999,\n",
       " 131.809998,\n",
       " 121.360001,\n",
       " 124.0,\n",
       " 119.699997,\n",
       " 113.889999,\n",
       " 118.919998,\n",
       " 105.639999,\n",
       " 127.669998,\n",
       " 114.32,\n",
       " 107.309998,\n",
       " 114.82,\n",
       " 119.230003,\n",
       " 86.860001,\n",
       " 87.010002,\n",
       " 147.729996,\n",
       " 128.199997,\n",
       " 113.260002,\n",
       " 110.82,\n",
       " 107.360001,\n",
       " 74.220001,\n",
       " 172.940002,\n",
       " 114.099998,\n",
       " 121.650002,\n",
       " 129.110001,\n",
       " 156.770004,\n",
       " 91.660004,\n",
       " 133.479996,\n",
       " 161.029999,\n",
       " 128.470001,\n",
       " 125.75,\n",
       " 132.289993,\n",
       " 114.019997,\n",
       " 118.230003,\n",
       " 93.709999,\n",
       " 111.150002,\n",
       " 164.289993,\n",
       " 157.770004,\n",
       " 115.510002,\n",
       " 107.129997,\n",
       " 83.309998,\n",
       " 115.150002,\n",
       " 125.540001,\n",
       " 106.080002,\n",
       " 120.580002,\n",
       " 157.139999,\n",
       " 161.059998,\n",
       " 120.309998,\n",
       " 133.070007,\n",
       " 103.949997,\n",
       " 116.360001,\n",
       " 119.309998,\n",
       " 112.370003,\n",
       " 102.839996,\n",
       " 161.199997,\n",
       " 97.050003,\n",
       " 147.830002,\n",
       " 125.32,\n",
       " 171.139999,\n",
       " 123.540001,\n",
       " 127.07,\n",
       " 127.959999,\n",
       " 114.830002,\n",
       " 111.540001,\n",
       " 122.849998,\n",
       " 100.5,\n",
       " 90.040001,\n",
       " 123.989998,\n",
       " 98.900002,\n",
       " 106.169998,\n",
       " 110.82,\n",
       " 120.389999,\n",
       " 98.849998,\n",
       " 122.449997,\n",
       " 162.300003,\n",
       " 86.650002,\n",
       " 106.150002,\n",
       " 116.43,\n",
       " 127.959999,\n",
       " 122.830002,\n",
       " 80.760002,\n",
       " 119.529999,\n",
       " 159.729996,\n",
       " 88.470001,\n",
       " 110.160004,\n",
       " 115.940002,\n",
       " 170.75,\n",
       " 102.339996,\n",
       " 105.019997,\n",
       " 122.730003,\n",
       " 160.330002,\n",
       " 86.949997,\n",
       " 93.190002,\n",
       " 111.43,\n",
       " 172.360001,\n",
       " 114.120003,\n",
       " 120.129997,\n",
       " 93.699997,\n",
       " 126.089996,\n",
       " 167.619995,\n",
       " 116.330002,\n",
       " 117.120003,\n",
       " 87.25,\n",
       " 149.199997,\n",
       " 118.690002,\n",
       " 89.419998,\n",
       " 113.650002,\n",
       " 115.519997,\n",
       " 118.669998,\n",
       " 86.989998,\n",
       " 93.830002,\n",
       " 116.550003,\n",
       " 118.300003,\n",
       " 121.800003,\n",
       " 127.660004,\n",
       " 122.699997,\n",
       " 137.710007,\n",
       " 163.630005,\n",
       " 118.43,\n",
       " 120.870003,\n",
       " 152.619995,\n",
       " 117.959999,\n",
       " 160.639999,\n",
       " 99.910004,\n",
       " 104.269997,\n",
       " 149.820007,\n",
       " 110.449997,\n",
       " 125.440002,\n",
       " 145.649994,\n",
       " 120.220001,\n",
       " 115.68,\n",
       " 113.029999,\n",
       " 112.150002,\n",
       " 134.050003,\n",
       " 118.059998,\n",
       " 102.610001,\n",
       " 116.339996,\n",
       " 104.68,\n",
       " 98.830002,\n",
       " 116.089996,\n",
       " 91.089996,\n",
       " 92.080002,\n",
       " 154.669998,\n",
       " 102.43,\n",
       " 154.770004,\n",
       " 113.68,\n",
       " 138.089996,\n",
       " 91.330002,\n",
       " 116.330002,\n",
       " 115.669998,\n",
       " 122.5438,\n",
       " 122.290001,\n",
       " 166.020004,\n",
       " 92.739998,\n",
       " 137.240005,\n",
       " 121.309998,\n",
       " 119.550003,\n",
       " 104.669998,\n",
       " 135.050003,\n",
       " 122.919998,\n",
       " 115.620003,\n",
       " 113.150002,\n",
       " 124.269997,\n",
       " 123.349998,\n",
       " 125.779999,\n",
       " 121.559998,\n",
       " 85.82,\n",
       " 132.449997,\n",
       " 154.869995,\n",
       " 92.059998,\n",
       " 148.970001,\n",
       " 161.880005,\n",
       " 127.199997,\n",
       " 167.350006,\n",
       " 108.559998,\n",
       " 110.440002,\n",
       " 104.209999,\n",
       " 95.769997,\n",
       " 129.470001,\n",
       " 108.349998,\n",
       " 149.119995,\n",
       " 121.730003,\n",
       " 131.699997,\n",
       " 131.960007,\n",
       " 160.990005,\n",
       " 90.57,\n",
       " 173.889999,\n",
       " 128.089996,\n",
       " 127.550003,\n",
       " 86.779999,\n",
       " 123.940002,\n",
       " 150.419998,\n",
       " 89.269997,\n",
       " 108.050003,\n",
       " 111.019997,\n",
       " 89.18,\n",
       " 138.369995,\n",
       " 156.220001,\n",
       " 134.660004,\n",
       " 73.580002,\n",
       " 152.970001,\n",
       " 126.559998,\n",
       " 126.139999,\n",
       " 127.75,\n",
       " 108.360001,\n",
       " 157.460007,\n",
       " 114.0,\n",
       " 116.989998,\n",
       " 126.860001,\n",
       " 155.240005,\n",
       " 120.650002,\n",
       " 156.990005,\n",
       " 92.790001,\n",
       " 125.389999,\n",
       " 124.889999,\n",
       " 88.25,\n",
       " 91.93,\n",
       " 126.339996,\n",
       " 128.839996,\n",
       " 112.889999,\n",
       " 117.360001,\n",
       " 119.739998,\n",
       " 128.179993,\n",
       " 121.480003,\n",
       " 134.199997,\n",
       " 93.900002,\n",
       " 118.900002,\n",
       " 112.300003,\n",
       " 94.779999,\n",
       " 108.699997,\n",
       " 86.709999,\n",
       " 110.260002,\n",
       " 88.639999,\n",
       " 93.239998,\n",
       " 131.320007,\n",
       " 163.089996,\n",
       " 90.120003,\n",
       " 119.82,\n",
       " 133.940002,\n",
       " 125.839996,\n",
       " 127.739998,\n",
       " 101.459999,\n",
       " 89.18,\n",
       " 132.199997,\n",
       " 122.150002,\n",
       " 110.529999,\n",
       " 172.070007,\n",
       " 115.279999,\n",
       " 85.389999,\n",
       " 121.959999,\n",
       " 90.760002,\n",
       " 161.300003,\n",
       " 116.519997,\n",
       " 120.400002,\n",
       " 160.490005,\n",
       " 121.489998,\n",
       " 114.949997,\n",
       " 109.980003,\n",
       " 126.529999,\n",
       " 73.449997,\n",
       " 102.040001,\n",
       " 130.229996,\n",
       " 121.099998,\n",
       " 91.169998,\n",
       " 132.089996,\n",
       " 117.970001,\n",
       " 116.110001,\n",
       " 156.25,\n",
       " 161.600006,\n",
       " 110.209999,\n",
       " 135.410004,\n",
       " 119.040001,\n",
       " 162.020004,\n",
       " 118.080002,\n",
       " 159.699997,\n",
       " 114.43,\n",
       " 117.980003,\n",
       " 147.770004,\n",
       " 115.330002,\n",
       " 126.230003,\n",
       " 165.589996,\n",
       " 116.790001,\n",
       " 125.029999,\n",
       " 153.229996,\n",
       " 153.470001,\n",
       " 132.809998,\n",
       " 115.029999,\n",
       " 120.959999,\n",
       " 126.470001,\n",
       " 93.089996,\n",
       " 122.519997,\n",
       " 151.410004,\n",
       " 111.669998,\n",
       " 106.949997,\n",
       " 162.619995,\n",
       " 120.050003,\n",
       " 165.160004,\n",
       " 131.570007,\n",
       " 116.169998,\n",
       " 152.990005,\n",
       " 169.429993,\n",
       " 110.57,\n",
       " 115.379997,\n",
       " 161.199997,\n",
       " 85.43,\n",
       " 128.110001,\n",
       " 127.269997,\n",
       " 129.210007,\n",
       " 125.610001,\n",
       " 124.230003,\n",
       " 91.099998,\n",
       " 151.619995,\n",
       " 96.089996,\n",
       " 136.179993,\n",
       " 90.25,\n",
       " 106.93,\n",
       " 115.470001,\n",
       " 111.540001,\n",
       " 126.309998,\n",
       " 90.919998,\n",
       " 125.410004,\n",
       " 163.350006,\n",
       " 117.959999,\n",
       " 166.070007,\n",
       " 127.790001,\n",
       " 111.5,\n",
       " 127.580002,\n",
       " 96.910004,\n",
       " 89.980003,\n",
       " 99.339996,\n",
       " 120.419998,\n",
       " 82.199997,\n",
       " 125.370003,\n",
       " 159.429993,\n",
       " 117.099998,\n",
       " 120.730003,\n",
       " 118.650002,\n",
       " 120.620003,\n",
       " 119.480003,\n",
       " 121.18,\n",
       " 118.809998,\n",
       " 107.559998,\n",
       " 146.380005,\n",
       " 122.830002,\n",
       " 115.43,\n",
       " 71.709999,\n",
       " 128.070007,\n",
       " 157.199997,\n",
       " 120.860001,\n",
       " 126.239998,\n",
       " 89.010002,\n",
       " 102.550003,\n",
       " 124.32,\n",
       " 119.910004,\n",
       " 72.150002,\n",
       " 150.75,\n",
       " 120.029999,\n",
       " 104.099998,\n",
       " 86.230003,\n",
       " 113.580002,\n",
       " 172.100006,\n",
       " 121.480003,\n",
       " 161.539993,\n",
       " 112.769997,\n",
       " 122.419998,\n",
       " 120.940002,\n",
       " 95.989998,\n",
       " 120.760002,\n",
       " 125.32,\n",
       " 118.080002,\n",
       " 97.730003,\n",
       " 154.649994,\n",
       " 120.589996,\n",
       " 143.470001,\n",
       " 160.589996,\n",
       " 111.629997,\n",
       " 122.120003,\n",
       " 146.240005,\n",
       " 127.959999,\n",
       " 164.119995,\n",
       " 133.429993,\n",
       " 122.379997,\n",
       " 166.380005,\n",
       " 106.379997,\n",
       " 122.239998,\n",
       " 133.830002,\n",
       " 102.360001]"
      ]
     },
     "execution_count": 66,
     "metadata": {},
     "output_type": "execute_result"
    }
   ],
   "source": [
    "Y_test"
   ]
  },
  {
   "cell_type": "markdown",
   "id": "86466c54",
   "metadata": {},
   "source": [
    "## Model Evalution"
   ]
  },
  {
   "cell_type": "code",
   "execution_count": 61,
   "id": "6a09219d",
   "metadata": {},
   "outputs": [],
   "source": [
    "test_data_pred = regrrsor.predict(X_test)\n",
    "train_data_pred = regrrsor.predict(X_train)"
   ]
  },
  {
   "cell_type": "code",
   "execution_count": 62,
   "id": "82088477",
   "metadata": {},
   "outputs": [
    {
     "name": "stdout",
     "output_type": "stream",
     "text": [
      "R Squared ERROR  =  0.9886987705068083\n"
     ]
    }
   ],
   "source": [
    "# check R- Squared ERROR on test data\n",
    "score = metrics.r2_score(Y_test,test_data_pred)\n",
    "print('R Squared ERROR  = ', score)"
   ]
  },
  {
   "cell_type": "code",
   "execution_count": 63,
   "id": "0cdbe0a0",
   "metadata": {},
   "outputs": [
    {
     "name": "stdout",
     "output_type": "stream",
     "text": [
      "R Squared ERROR  =  0.998407860720031\n"
     ]
    }
   ],
   "source": [
    "# check R- Squared ERROR on training data\n",
    "score_2 = metrics.r2_score(Y_train,train_data_pred)\n",
    "print('R Squared ERROR  = ', score_2)"
   ]
  },
  {
   "cell_type": "markdown",
   "id": "94fd63af",
   "metadata": {},
   "source": [
    "## Compare the actual values to Predictable values in a plot"
   ]
  },
  {
   "cell_type": "code",
   "execution_count": 64,
   "id": "d728efb2",
   "metadata": {},
   "outputs": [],
   "source": [
    "Y_test = list(Y_test)\n",
    "test_data_pred = list(test_data_pred)"
   ]
  },
  {
   "cell_type": "code",
   "execution_count": 65,
   "id": "b9c0c0fb",
   "metadata": {},
   "outputs": [
    {
     "data": {
      "image/png": "[encoded data removed]",
      "text/plain": [
       "<Figure size 640x480 with 1 Axes>"
      ]
     },
     "metadata": {},
     "output_type": "display_data"
    }
   ],
   "source": [
    "plt.plot(Y_test, color='red', label='Actual_Values')\n",
    "plt.plot(test_data_pred, color='yellow', label='Predict_Values')\n",
    "plt.title('Actual_Values vs Predictiable_Values')\n",
    "plt.xlabel('Number of Values')\n",
    "plt.ylabel('GLD Price')\n",
    "plt.legend()\n",
    "plt.show()"
   ]
  },
  {
   "cell_type": "code",
   "execution_count": null,
   "id": "de28a345",
   "metadata": {},
   "outputs": [],
   "source": []
  }
 ],
 "metadata": {
  "kernelspec": {
   "display_name": "Python 3 (ipykernel)",
   "language": "python",
   "name": "python3"
  },
  "language_info": {
   "codemirror_mode": {
    "name": "ipython",
    "version": 3
   },
   "file_extension": ".py",
   "mimetype": "text/x-python",
   "name": "python",
   "nbconvert_exporter": "python",
   "pygments_lexer": "ipython3",
   "version": "3.9.13"
  }
 },
 "nbformat": 4,
 "nbformat_minor": 5
}
