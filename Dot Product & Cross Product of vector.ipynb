{
 "cells": [
  {
   "cell_type": "code",
   "execution_count": 1,
   "id": "3e015cca",
   "metadata": {},
   "outputs": [],
   "source": [
    "import numpy as np"
   ]
  },
  {
   "cell_type": "markdown",
   "id": "90f5aeb0",
   "metadata": {},
   "source": [
    "# Dot Product"
   ]
  },
  {
   "cell_type": "code",
   "execution_count": 2,
   "id": "7c12ab6e",
   "metadata": {},
   "outputs": [
    {
     "name": "stdout",
     "output_type": "stream",
     "text": [
      "15\n"
     ]
    }
   ],
   "source": [
    "vec_1 = np.array([2,3])\n",
    "vec_2 = np.array([3,3])\n",
    "a_dot_b = np.dot(vec_1,vec_2)\n",
    "print(a_dot_b)"
   ]
  },
  {
   "cell_type": "code",
   "execution_count": 3,
   "id": "e1d29ce9",
   "metadata": {},
   "outputs": [
    {
     "name": "stdout",
     "output_type": "stream",
     "text": [
      "63\n"
     ]
    }
   ],
   "source": [
    "vec_1 = np.array([2,3,6])\n",
    "vec_2 = np.array([3,3,8])\n",
    "a_dot_b = np.dot(vec_1,vec_2)\n",
    "print(a_dot_b)"
   ]
  },
  {
   "cell_type": "markdown",
   "id": "40b1f884",
   "metadata": {},
   "source": [
    "# Cross Product"
   ]
  },
  {
   "cell_type": "code",
   "execution_count": 4,
   "id": "0bc3c068",
   "metadata": {},
   "outputs": [
    {
     "data": {
      "text/plain": [
       "array(-17)"
      ]
     },
     "execution_count": 4,
     "metadata": {},
     "output_type": "execute_result"
    }
   ],
   "source": [
    "vec_1 = np.array([2,5])\n",
    "vec_2 = np.array([5,4])\n",
    "a_croos_b = np.cross(vec_1,vec_2)\n",
    "a_croos_b"
   ]
  },
  {
   "cell_type": "code",
   "execution_count": 5,
   "id": "96478afb",
   "metadata": {},
   "outputs": [
    {
     "data": {
      "text/plain": [
       "array([ 3100,  -900, -1700])"
      ]
     },
     "execution_count": 5,
     "metadata": {},
     "output_type": "execute_result"
    }
   ],
   "source": [
    "vec_1 = np.array([20,50,10])\n",
    "vec_2 = np.array([50,40,70])\n",
    "a_croos_b = np.cross(vec_1,vec_2)\n",
    "a_croos_b"
   ]
  },
  {
   "cell_type": "markdown",
   "id": "5eea6f97",
   "metadata": {},
   "source": [
    "# Projection"
   ]
  },
  {
   "cell_type": "code",
   "execution_count": 6,
   "id": "cf0b0125",
   "metadata": {},
   "outputs": [
    {
     "name": "stdout",
     "output_type": "stream",
     "text": [
      "Projection of Vector u on Vector v is:  [1.76923077 2.12307692 0.70769231]\n"
     ]
    }
   ],
   "source": [
    "u = np.array([1, 2, 3])   # vector u\n",
    "v = np.array([5, 6, 2])   # vector v:\n",
    "  \n",
    "# Task: Project vector u on vector v\n",
    "  \n",
    "# finding norm of the vector v\n",
    "v_norm = np.sqrt(sum(v**2))    \n",
    "  \n",
    "# Apply the formula as mentioned above\n",
    "# for projecting a vector onto another vector\n",
    "# find dot product using np.dot()\n",
    "proj_of_u_on_v = (np.dot(u, v)/v_norm**2)*v\n",
    "  \n",
    "print(\"Projection of Vector u on Vector v is: \", proj_of_u_on_v)"
   ]
  },
  {
   "cell_type": "code",
   "execution_count": null,
   "id": "07d71301",
   "metadata": {},
   "outputs": [],
   "source": []
  }
 ],
 "metadata": {
  "kernelspec": {
   "display_name": "Python 3 (ipykernel)",
   "language": "python",
   "name": "python3"
  },
  "language_info": {
   "codemirror_mode": {
    "name": "ipython",
    "version": 3
   },
   "file_extension": ".py",
   "mimetype": "text/x-python",
   "name": "python",
   "nbconvert_exporter": "python",
   "pygments_lexer": "ipython3",
   "version": "3.9.13"
  }
 },
 "nbformat": 4,
 "nbformat_minor": 5
}
