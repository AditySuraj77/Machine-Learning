{
 "cells": [
  {
   "cell_type": "code",
   "execution_count": null,
   "id": "14975020",
   "metadata": {},
   "outputs": [],
   "source": [
    "import pandas as pd"
   ]
  },
  {
   "cell_type": "markdown",
   "id": "02ff9af6",
   "metadata": {},
   "source": [
    "# Load data from sklearn libaries"
   ]
  },
  {
   "cell_type": "code",
   "execution_count": null,
   "id": "acb3c346",
   "metadata": {},
   "outputs": [],
   "source": [
    "import sklearn.datasets"
   ]
  },
  {
   "cell_type": "code",
   "execution_count": null,
   "id": "54baa8f2",
   "metadata": {},
   "outputs": [],
   "source": [
    "s_df = sklearn.datasets.load_breast_cancer()"
   ]
  },
  {
   "cell_type": "code",
   "execution_count": null,
   "id": "bf6ea9e0",
   "metadata": {},
   "outputs": [],
   "source": [
    "s_df"
   ]
  },
  {
   "cell_type": "code",
   "execution_count": null,
   "id": "e4eab4ab",
   "metadata": {},
   "outputs": [],
   "source": [
    "pd.set_option('display.max_columns', None)"
   ]
  },
  {
   "cell_type": "code",
   "execution_count": null,
   "id": "8702d94a",
   "metadata": {},
   "outputs": [],
   "source": [
    "df = pd.DataFrame(s_df.data, columns=s_df.feature_names,)\n",
    "                  "
   ]
  },
  {
   "cell_type": "code",
   "execution_count": null,
   "id": "989b4ac0",
   "metadata": {},
   "outputs": [],
   "source": [
    "df"
   ]
  },
  {
   "cell_type": "markdown",
   "id": "f067ffe9",
   "metadata": {},
   "source": [
    "# Split data in X,Y"
   ]
  },
  {
   "cell_type": "code",
   "execution_count": null,
   "id": "5ed4a53c",
   "metadata": {},
   "outputs": [],
   "source": [
    "X = df\n",
    "Y = s_df.target"
   ]
  },
  {
   "cell_type": "code",
   "execution_count": null,
   "id": "048a469a",
   "metadata": {},
   "outputs": [],
   "source": [
    "print(X.shape)\n",
    "print(Y.shape)"
   ]
  },
  {
   "cell_type": "markdown",
   "id": "28bf123e",
   "metadata": {},
   "source": [
    "# Before Standrization data split data X,y Train & test"
   ]
  },
  {
   "cell_type": "code",
   "execution_count": null,
   "id": "a9e05d39",
   "metadata": {},
   "outputs": [],
   "source": [
    "from sklearn.model_selection import train_test_split"
   ]
  },
  {
   "cell_type": "code",
   "execution_count": null,
   "id": "6a1cd052",
   "metadata": {},
   "outputs": [],
   "source": [
    "X_train, X_test, Y_train, Y_test= train_test_split(X,Y, test_size=0.2, random_state=3)"
   ]
  },
  {
   "cell_type": "code",
   "execution_count": null,
   "id": "cf4c3936",
   "metadata": {},
   "outputs": [],
   "source": [
    "print(X.shape)\n",
    "print(X_train.shape)\n",
    "print(Y_train.shape)\n",
    "print(X_test.shape)\n",
    "print(Y_test.shape)"
   ]
  },
  {
   "cell_type": "markdown",
   "id": "36989133",
   "metadata": {},
   "source": [
    "# Using Standrization to Range the Data"
   ]
  },
  {
   "cell_type": "code",
   "execution_count": null,
   "id": "6bc9d227",
   "metadata": {},
   "outputs": [],
   "source": [
    "from sklearn.preprocessing import StandardScaler"
   ]
  },
  {
   "cell_type": "code",
   "execution_count": null,
   "id": "fceb1e76",
   "metadata": {},
   "outputs": [],
   "source": [
    "scaler = StandardScaler()\n",
    "scaler.fit(X_train)"
   ]
  },
  {
   "cell_type": "code",
   "execution_count": null,
   "id": "914382ca",
   "metadata": {},
   "outputs": [],
   "source": [
    "X_train_sclaer = scaler.transform(X_train)"
   ]
  },
  {
   "cell_type": "code",
   "execution_count": null,
   "id": "341a0d05",
   "metadata": {},
   "outputs": [],
   "source": [
    "print(X.std())"
   ]
  },
  {
   "cell_type": "code",
   "execution_count": null,
   "id": "915273c1",
   "metadata": {},
   "outputs": [],
   "source": [
    "print(X_train_sclaer.std())"
   ]
  },
  {
   "cell_type": "code",
   "execution_count": null,
   "id": "707d201b",
   "metadata": {},
   "outputs": [],
   "source": [
    "X_test_sclaer = scaler.transform(X_test)"
   ]
  },
  {
   "cell_type": "code",
   "execution_count": null,
   "id": "c278b95a",
   "metadata": {},
   "outputs": [],
   "source": [
    "print(X_test_sclaer)"
   ]
  },
  {
   "cell_type": "code",
   "execution_count": null,
   "id": "4a1ecfa7",
   "metadata": {},
   "outputs": [],
   "source": [
    "X_test"
   ]
  },
  {
   "cell_type": "code",
   "execution_count": null,
   "id": "505c5a4d",
   "metadata": {},
   "outputs": [],
   "source": [
    "print(X_test.std())"
   ]
  },
  {
   "cell_type": "code",
   "execution_count": null,
   "id": "aa405690",
   "metadata": {},
   "outputs": [],
   "source": [
    "print(X_test_sclaer.std())"
   ]
  },
  {
   "cell_type": "code",
   "execution_count": null,
   "id": "a5e200cb",
   "metadata": {},
   "outputs": [],
   "source": []
  },
  {
   "cell_type": "code",
   "execution_count": null,
   "id": "1f57846e",
   "metadata": {},
   "outputs": [],
   "source": []
  },
  {
   "cell_type": "code",
   "execution_count": null,
   "id": "c9ed2be8",
   "metadata": {},
   "outputs": [],
   "source": []
  }
 ],
 "metadata": {
  "kernelspec": {
   "display_name": "Python 3 (ipykernel)",
   "language": "python",
   "name": "python3"
  },
  "language_info": {
   "codemirror_mode": {
    "name": "ipython",
    "version": 3
   },
   "file_extension": ".py",
   "mimetype": "text/x-python",
   "name": "python",
   "nbconvert_exporter": "python",
   "pygments_lexer": "ipython3",
   "version": "3.9.13"
  }
 },
 "nbformat": 4,
 "nbformat_minor": 5
}
