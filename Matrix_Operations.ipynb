{
 "cells": [
  {
   "cell_type": "code",
   "execution_count": 1,
   "id": "279913fc",
   "metadata": {},
   "outputs": [],
   "source": [
    "import numpy as np"
   ]
  },
  {
   "cell_type": "markdown",
   "id": "a37f5555",
   "metadata": {},
   "source": [
    "## Matrix Addition"
   ]
  },
  {
   "cell_type": "code",
   "execution_count": 8,
   "id": "ab51bc45",
   "metadata": {},
   "outputs": [
    {
     "name": "stdout",
     "output_type": "stream",
     "text": [
      "[[3 4 8]\n",
      " [1 8 3]\n",
      " [4 0 9]]\n",
      "[[16  9 16]\n",
      " [18 19  2]\n",
      " [ 4  3  2]]\n"
     ]
    }
   ],
   "source": [
    "mat1_add = np.random.randint(10,size=(3,3))\n",
    "mat2_add = np.random.randint(20, size=(3,3))\n",
    "print(mat1_add)\n",
    "print(mat2_add)"
   ]
  },
  {
   "cell_type": "code",
   "execution_count": 9,
   "id": "410f3b76",
   "metadata": {},
   "outputs": [
    {
     "name": "stdout",
     "output_type": "stream",
     "text": [
      "[[19 13 24]\n",
      " [19 27  5]\n",
      " [ 8  3 11]]\n"
     ]
    }
   ],
   "source": [
    "sum = np.add(mat1_add,mat2_add)\n",
    "print(sum)"
   ]
  },
  {
   "cell_type": "markdown",
   "id": "631b771c",
   "metadata": {},
   "source": [
    "# Matrix Subtraction"
   ]
  },
  {
   "cell_type": "code",
   "execution_count": 12,
   "id": "241a95f0",
   "metadata": {},
   "outputs": [
    {
     "name": "stdout",
     "output_type": "stream",
     "text": [
      "[[ 1 19  3  8  4]\n",
      " [ 7  7  1  4 15]\n",
      " [13  9  8  9  9]\n",
      " [15 14 10 14  0]\n",
      " [ 6 13 17  5  5]]\n",
      "[[19 18 27 21 12]\n",
      " [ 7 23 15 26  3]\n",
      " [18  7 20 17 29]\n",
      " [18 19 24  2 24]\n",
      " [10 22 18 23 23]]\n"
     ]
    }
   ],
   "source": [
    "mat1_sub = np.random.randint(20, size=(5,5))\n",
    "mat2_sub = np.random.randint(30, size=(5,5))\n",
    "print(mat1_sub)\n",
    "print(mat2_sub)"
   ]
  },
  {
   "cell_type": "code",
   "execution_count": 13,
   "id": "a45e8de0",
   "metadata": {},
   "outputs": [
    {
     "name": "stdout",
     "output_type": "stream",
     "text": [
      "[[-18   1 -24 -13  -8]\n",
      " [  0 -16 -14 -22  12]\n",
      " [ -5   2 -12  -8 -20]\n",
      " [ -3  -5 -14  12 -24]\n",
      " [ -4  -9  -1 -18 -18]]\n"
     ]
    }
   ],
   "source": [
    "difference = np.subtract(mat1_sub,mat2_sub)\n",
    "print(difference)"
   ]
  },
  {
   "cell_type": "markdown",
   "id": "6ae99311",
   "metadata": {},
   "source": [
    "# Multiply Matrix by scaler"
   ]
  },
  {
   "cell_type": "code",
   "execution_count": 14,
   "id": "76be86f3",
   "metadata": {},
   "outputs": [
    {
     "name": "stdout",
     "output_type": "stream",
     "text": [
      "5\n",
      "[[3 6 8 6 2]\n",
      " [7 6 9 9 8]\n",
      " [9 7 5 3 6]\n",
      " [4 5 6 2 8]\n",
      " [4 5 4 4 4]]\n"
     ]
    }
   ],
   "source": [
    "x = 5\n",
    "y = np.random.randint(10, size=(5,5))\n",
    "print(x)\n",
    "print(y)"
   ]
  },
  {
   "cell_type": "code",
   "execution_count": 15,
   "id": "d139bf40",
   "metadata": {},
   "outputs": [
    {
     "name": "stdout",
     "output_type": "stream",
     "text": [
      "[[15 30 40 30 10]\n",
      " [35 30 45 45 40]\n",
      " [45 35 25 15 30]\n",
      " [20 25 30 10 40]\n",
      " [20 25 20 20 20]]\n"
     ]
    }
   ],
   "source": [
    "multiply = np.multiply(x,y)\n",
    "print(multiply)"
   ]
  },
  {
   "cell_type": "markdown",
   "id": "8a9c0a96",
   "metadata": {},
   "source": [
    "# Multiply of two Matrics"
   ]
  },
  {
   "cell_type": "code",
   "execution_count": 25,
   "id": "9a44958d",
   "metadata": {},
   "outputs": [
    {
     "name": "stdout",
     "output_type": "stream",
     "text": [
      "[[ 8  1 16  3 18  7 16  9  3 10]\n",
      " [15 17  7 12  6 15 15  6  4 11]\n",
      " [11  7 16  5 19  7 17 17 16 14]\n",
      " [ 3  9 19 10 11  7  4 11 19  3]\n",
      " [17  1 12 10  8  0  6 11  5 12]\n",
      " [ 8  5 12  9 14  7  6  4  8  9]\n",
      " [ 5 10 18 11  5 18  3 19  1 13]\n",
      " [ 9  5 11  5 17  1  6  8 16 16]\n",
      " [19  0 10 19 17  6 11 15 17  8]\n",
      " [15  7  7  3  4 11 13 11  4 19]]\n",
      "                X\n",
      "[[28 14  8  9  2  7 22 11  9 10]\n",
      " [ 4  5 25 29 29 19  5 22 10 22]\n",
      " [19 17 14 14  3 27 23 29 23 16]\n",
      " [ 6  0 19  5 20  8 13 18  1 27]\n",
      " [ 9 12 12  4 15 10  1  6  4 26]\n",
      " [ 5  9 21  6 12 16 15 26  4 20]\n",
      " [22  5 11 10  1 27  7  0  4 13]\n",
      " [11 17 23 28 27 12  2 17 26  2]\n",
      " [ 5  7 21 21 12 16  5  0 16  9]\n",
      " [11 17  8 16 13 25 11 25 10 22]]\n"
     ]
    }
   ],
   "source": [
    "ma1 = np.random.randint(20, size=(10,10))\n",
    "ma2 = np.random.randint(30, size=(10,10))\n",
    "print(ma1)\n",
    "print(             '                X'      )\n",
    "print(ma2)"
   ]
  },
  {
   "cell_type": "code",
   "execution_count": 26,
   "id": "4e1d1bc0",
   "metadata": {},
   "outputs": [
    {
     "name": "stdout",
     "output_type": "stream",
     "text": [
      "[[1323 1092 1259 1089  932 1661  966 1321  999 1520]\n",
      " [1359 1013 1733 1478 1422 1829 1221 1761  952 1901]\n",
      " [1671 1476 1983 1875 1592 2253 1221 1764 1552 1996]\n",
      " [1012  996 1704 1485 1341 1626  972 1472 1272 1539]\n",
      " [1250  999 1135 1097  938 1296 1014 1272  991 1271]\n",
      " [1002  879 1241 1012  998 1362  902 1267  837 1485]\n",
      " [1146 1214 1784 1561 1562 1787 1199 2141 1314 1717]\n",
      " [1145 1101 1385 1355 1185 1595  887 1282 1109 1563]\n",
      " [1599 1259 1870 1525 1499 1770 1282 1554 1298 1927]\n",
      " [1326 1114 1361 1359 1111 1689 1076 1548 1021 1466]]\n"
     ]
    }
   ],
   "source": [
    "product = np.dot(ma1,ma2)\n",
    "print(product)"
   ]
  },
  {
   "cell_type": "code",
   "execution_count": null,
   "id": "8e7d22f4",
   "metadata": {},
   "outputs": [],
   "source": []
  }
 ],
 "metadata": {
  "kernelspec": {
   "display_name": "Python 3 (ipykernel)",
   "language": "python",
   "name": "python3"
  },
  "language_info": {
   "codemirror_mode": {
    "name": "ipython",
    "version": 3
   },
   "file_extension": ".py",
   "mimetype": "text/x-python",
   "name": "python",
   "nbconvert_exporter": "python",
   "pygments_lexer": "ipython3",
   "version": "3.9.13"
  }
 },
 "nbformat": 4,
 "nbformat_minor": 5
}
